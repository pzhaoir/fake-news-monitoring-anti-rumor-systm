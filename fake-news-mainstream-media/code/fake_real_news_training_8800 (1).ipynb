{
 "cells": [
  {
   "cell_type": "code",
   "execution_count": null,
   "metadata": {
    "colab": {
     "base_uri": "https://localhost:8080/",
     "height": 105
    },
    "colab_type": "code",
    "id": "E9f_Ov2F_G5W",
    "outputId": "236ca477-0aa7-4981-f803-acdf87a5fb55"
   },
   "outputs": [
    {
     "name": "stderr",
     "output_type": "stream",
     "text": [
      "/usr/local/lib/python3.6/dist-packages/statsmodels/tools/_testing.py:19: FutureWarning: pandas.util.testing is deprecated. Use the functions in the public API at pandas.testing instead.\n",
      "  import pandas.util.testing as tm\n"
     ]
    },
    {
     "name": "stdout",
     "output_type": "stream",
     "text": [
      "[nltk_data] Downloading package stopwords to /root/nltk_data...\n",
      "[nltk_data]   Unzipping corpora/stopwords.zip.\n"
     ]
    }
   ],
   "source": [
    "import numpy as np # linear algebra\n",
    "import pandas as pd # data processing, CSV file I/O (e.g. pd.read_csv)\n",
    "import seaborn as sns\n",
    "import matplotlib.pyplot as plt\n",
    "import re\n",
    "from keras.preprocessing.text import Tokenizer\n",
    "from keras.preprocessing.sequence import pad_sequences\n",
    "from keras.utils import to_categorical\n",
    "from keras.layers import Dense, Input, GlobalMaxPooling1D, LSTM\n",
    "from keras.layers import Conv1D, MaxPooling1D, Embedding, Dropout, Activation, Flatten\n",
    "from keras.models import Model\n",
    "from keras.initializers import Constant\n",
    "from keras.models import Sequential\n",
    "from sklearn.model_selection import train_test_split\n",
    "from sklearn.metrics import classification_report,confusion_matrix,accuracy_score\n",
    "import nltk\n",
    "nltk.download('stopwords')\n",
    "from nltk.corpus import stopwords\n",
    "stop_words = set(stopwords.words('english'))\n",
    "from nltk.stem import PorterStemmer \n",
    "from nltk.tokenize import word_tokenize\n",
    "\n",
    "from nltk.tokenize import sent_tokenize, word_tokenize\n",
    "from nltk.stem import WordNetLemmatizer\n",
    "from nltk.stem.porter import *\n",
    "\n",
    "\n",
    "# Use English stemmer.\n",
    "word_stemmer = PorterStemmer()\n",
    "wordnet_lemmatizer = WordNetLemmatizer()\n",
    "from gensim.models.keyedvectors import KeyedVectors"
   ]
  },
  {
   "cell_type": "code",
   "execution_count": null,
   "metadata": {
    "colab": {
     "base_uri": "https://localhost:8080/",
     "height": 238
    },
    "colab_type": "code",
    "id": "zBPa7eAj4F-D",
    "outputId": "db486c0a-f9b3-4209-bee4-112ac81ad3c6"
   },
   "outputs": [
    {
     "name": "stdout",
     "output_type": "stream",
     "text": [
      "Collecting keras==2.1.5\n",
      "  Downloading Keras-2.1.5-py2.py3-none-any.whl (334 kB)\n",
      "\u001b[K     |████████████████████████████████| 334 kB 2.9 MB/s \n",
      "\u001b[?25hRequirement already satisfied: numpy>=1.9.1 in /usr/local/lib/python3.6/dist-packages (from keras==2.1.5) (1.18.5)\n",
      "Requirement already satisfied: pyyaml in /usr/local/lib/python3.6/dist-packages (from keras==2.1.5) (3.13)\n",
      "Requirement already satisfied: six>=1.9.0 in /usr/local/lib/python3.6/dist-packages (from keras==2.1.5) (1.15.0)\n",
      "Requirement already satisfied: scipy>=0.14 in /usr/local/lib/python3.6/dist-packages (from keras==2.1.5) (1.4.1)\n",
      "Installing collected packages: keras\n",
      "  Attempting uninstall: keras\n",
      "    Found existing installation: Keras 2.4.3\n",
      "    Uninstalling Keras-2.4.3:\n",
      "      Successfully uninstalled Keras-2.4.3\n",
      "Successfully installed keras-2.1.5\n"
     ]
    }
   ],
   "source": [
    "!pip install keras==2.1.5"
   ]
  },
  {
   "cell_type": "code",
   "execution_count": null,
   "metadata": {
    "colab": {},
    "colab_type": "code",
    "id": "Xfo4Qofn_G5c"
   },
   "outputs": [],
   "source": [
    "real_news_df = pd.read_csv('sample_data/8000-1.csv')\n",
    "fake_news_df = pd.read_csv('sample_data/fake_news_dataset_csv.csv', encoding= 'unicode_escape').dropna()\n",
    "#real_news_df = real_news_df.rename(columns={\"headline\": \"Article\"})"
   ]
  },
  {
   "cell_type": "code",
   "execution_count": null,
   "metadata": {
    "colab": {
     "base_uri": "https://localhost:8080/",
     "height": 51
    },
    "colab_type": "code",
    "id": "4j2mwKxs_G5g",
    "outputId": "c66923bc-5034-4d32-e020-37965189d1dd"
   },
   "outputs": [
    {
     "name": "stdout",
     "output_type": "stream",
     "text": [
      "(8799, 6)\n",
      "(8810, 6)\n"
     ]
    }
   ],
   "source": [
    "real_news_df['real_fact'] = 1\n",
    "fake_news_df['real_fact'] = 0\n",
    "print(real_news_df.shape)\n",
    "print(fake_news_df.shape)"
   ]
  },
  {
   "cell_type": "markdown",
   "metadata": {
    "colab_type": "text",
    "id": "VtAXZs2G_G5k"
   },
   "source": [
    "# Data cleaning"
   ]
  },
  {
   "cell_type": "code",
   "execution_count": null,
   "metadata": {
    "colab": {},
    "colab_type": "code",
    "id": "kFVwDWE3_G5l"
   },
   "outputs": [],
   "source": [
    "def decontracted(phrase):\n",
    "  # specific\n",
    "  phrase = re.sub(r\"won\\'t\", \"will not\", phrase)\n",
    "  phrase = re.sub(r\"can\\'t\", \"can not\", phrase)\n",
    "\n",
    "  # general\n",
    "  phrase = re.sub(r\"n\\'t\", \" not\", phrase)\n",
    "  phrase = re.sub(r\"\\'re\", \" are\", phrase)\n",
    "  phrase = re.sub(r\"\\'s\", \" is\", phrase)\n",
    "  phrase = re.sub(r\"\\'d\", \" would\", phrase)\n",
    "  phrase = re.sub(r\"\\'ll\", \" will\", phrase)\n",
    "  phrase = re.sub(r\"\\'t\", \" not\", phrase)\n",
    "  phrase = re.sub(r\"\\'ve\", \" have\", phrase)\n",
    "  phrase = re.sub(r\"\\'m\", \" am\", phrase)\n",
    "  return phrase\n",
    "\n",
    "\n",
    "\n",
    "def get_cleaned_data(input_data, mode='df'):\n",
    "  stop = stopwords.words('english')\n",
    "  \n",
    "  input_df = ''\n",
    "  \n",
    "  if mode != 'df':\n",
    "      input_df = pd.DataFrame([input_data], columns=['Article'])\n",
    "  else:\n",
    "      input_df = input_data\n",
    "      \n",
    "  #lowercase the text\n",
    "  input_df['Article'] = input_df['Article'].str.lower()\n",
    "  \n",
    "  input_df['Article'] = input_df['Article'].apply(lambda elem: decontracted(elem))\n",
    "  \n",
    "  #remove special characters\n",
    "  input_df['Article'] = input_df['Article'].apply(lambda elem: re.sub(r\"(@[A-Za-z0-9]+)|([^0-9A-Za-z \\t])|(\\w+:\\/\\/\\S+)|^rt|http.+?\", \"\", elem))\n",
    "  \n",
    "  # remove numbers\n",
    "  input_df['Article'] = input_df['Article'].apply(lambda elem: re.sub(r\"\\d+\", \"\", elem))\n",
    "  \n",
    "  #remove stopwords\n",
    "  input_df['Article'] = input_df['Article'].apply(lambda x: ' '.join([word.strip() for word in x.split() if word not in (stop)]))\n",
    "  \n",
    "  #stemming, changes the word to root form\n",
    "#     input_df['text'] = input_df['text'].apply(lambda words: [word_stemmer.stem(word) for word in words])\n",
    "  \n",
    "  #lemmatization, same as stemmer, but language corpus is used to fetch the root form, so resulting words make sense\n",
    "#     more description @ https://www.datacamp.com/community/tutorials/stemming-lemmatization-python\n",
    "  input_df['Article'] = input_df['Article'].apply(lambda words: (wordnet_lemmatizer.lemmatize(words)))\n",
    "#     print(input_df.head(3))\n",
    "  \n",
    "  return input_df\n"
   ]
  },
  {
   "cell_type": "code",
   "execution_count": null,
   "metadata": {
    "colab": {
     "base_uri": "https://localhost:8080/",
     "height": 68
    },
    "colab_type": "code",
    "id": "194DgDMm_G5o",
    "outputId": "6b2414f8-c668-442b-b7ab-06654a9daf45"
   },
   "outputs": [
    {
     "name": "stdout",
     "output_type": "stream",
     "text": [
      "[nltk_data] Downloading package wordnet to /root/nltk_data...\n",
      "[nltk_data]   Unzipping corpora/wordnet.zip.\n",
      "(17609, 9)\n"
     ]
    }
   ],
   "source": [
    "import nltk\n",
    "nltk.download('wordnet')\n",
    "\n",
    "fake_news_df = get_cleaned_data(fake_news_df)\n",
    "real_news_df = get_cleaned_data(real_news_df)\n",
    "news_data_df = pd.concat([real_news_df, fake_news_df], ignore_index = True)\n",
    "print(news_data_df.shape)"
   ]
  },
  {
   "cell_type": "code",
   "execution_count": null,
   "metadata": {
    "colab": {},
    "colab_type": "code",
    "id": "9I2ehPNWZ-CY"
   },
   "outputs": [],
   "source": [
    "news_data_df"
   ]
  },
  {
   "cell_type": "code",
   "execution_count": null,
   "metadata": {
    "colab": {},
    "colab_type": "code",
    "id": "s5DMhhaz_G5v"
   },
   "outputs": [],
   "source": [
    "MAX_SEQUENCE_LENGTH = 500\n",
    "MAX_NUM_WORDS = 10000\n",
    "EMBEDDING_DIM = 300\n",
    "VALIDATION_SPLIT = 0.2\n",
    "\n",
    "\n",
    "x_train,x_test,y_train,y_test = train_test_split(news_data_df.Article,news_data_df.real_fact,random_state = 42, test_size=VALIDATION_SPLIT, shuffle=True)"
   ]
  },
  {
   "cell_type": "markdown",
   "metadata": {
    "colab_type": "text",
    "id": "tu0LrqQD_G5y"
   },
   "source": [
    "# Vectorize the text samples into a 2D integer tensor"
   ]
  },
  {
   "cell_type": "code",
   "execution_count": null,
   "metadata": {
    "colab": {
     "base_uri": "https://localhost:8080/",
     "height": 34
    },
    "colab_type": "code",
    "id": "Necp3Sum_G5z",
    "outputId": "0d07ac1f-6ba1-427f-fdd7-d0531bcdde32"
   },
   "outputs": [
    {
     "name": "stdout",
     "output_type": "stream",
     "text": [
      "Found 16951 unique tokens. and 14087 lines \n"
     ]
    }
   ],
   "source": [
    "tokenizer = Tokenizer(num_words=MAX_NUM_WORDS)\n",
    "\n",
    "tokenizer.fit_on_texts(x_train)\n",
    "\n",
    "# Transforms each text in texts to a sequence of integers. \n",
    "# So it basically takes each word in the text and replaces it with its corresponding integer value from the word_index dictionary.\n",
    "# sequences = tokenizer.texts_to_sequences(news_data_df.text)\n",
    "tokenized_train = tokenizer.texts_to_sequences(x_train)\n",
    "X_train = pad_sequences(tokenized_train, maxlen=MAX_SEQUENCE_LENGTH)\n",
    "\n",
    "word_index = tokenizer.word_index\n",
    "print('Found {} unique tokens. and {} lines '.format(len(word_index), len(X_train)))"
   ]
  },
  {
   "cell_type": "code",
   "execution_count": null,
   "metadata": {
    "colab": {
     "base_uri": "https://localhost:8080/",
     "height": 204
    },
    "colab_type": "code",
    "id": "QypEc-0K_aSb",
    "outputId": "fefdd62d-f3a9-4719-87bd-bbe1509ba928"
   },
   "outputs": [
    {
     "name": "stdout",
     "output_type": "stream",
     "text": [
      "--2020-09-18 21:07:50--  https://s3.amazonaws.com/dl4j-distribution/GoogleNews-vectors-negative300.bin.gz\n",
      "Resolving s3.amazonaws.com (s3.amazonaws.com)... 52.217.69.214\n",
      "Connecting to s3.amazonaws.com (s3.amazonaws.com)|52.217.69.214|:443... connected.\n",
      "HTTP request sent, awaiting response... 200 OK\n",
      "Length: 1647046227 (1.5G) [application/x-gzip]\n",
      "Saving to: ‘/root/input/GoogleNews-vectors-negative300.bin.gz’\n",
      "\n",
      "GoogleNews-vectors- 100%[===================>]   1.53G  34.9MB/s    in 46s     \n",
      "\n",
      "2020-09-18 21:08:36 (34.4 MB/s) - ‘/root/input/GoogleNews-vectors-negative300.bin.gz’ saved [1647046227/1647046227]\n",
      "\n"
     ]
    }
   ],
   "source": [
    "!wget -P /root/input/ -c \"https://s3.amazonaws.com/dl4j-distribution/GoogleNews-vectors-negative300.bin.gz\""
   ]
  },
  {
   "cell_type": "code",
   "execution_count": null,
   "metadata": {
    "colab": {},
    "colab_type": "code",
    "id": "28L7p9e2ARgp"
   },
   "outputs": [],
   "source": [
    "from gensim.models.keyedvectors import KeyedVectors"
   ]
  },
  {
   "cell_type": "code",
   "execution_count": null,
   "metadata": {
    "colab": {
     "base_uri": "https://localhost:8080/",
     "height": 88
    },
    "colab_type": "code",
    "id": "hSSC_p3S_G52",
    "outputId": "1c9643dd-e969-431c-8df6-935c4691e725"
   },
   "outputs": [
    {
     "name": "stderr",
     "output_type": "stream",
     "text": [
      "/usr/local/lib/python3.6/dist-packages/smart_open/smart_open_lib.py:254: UserWarning: This function is deprecated, use smart_open.open instead. See the migration notes for details: https://github.com/RaRe-Technologies/smart_open/blob/master/README.rst#migrating-to-the-new-open-function\n",
      "  'See the migration notes for details: %s' % _MIGRATION_NOTES_URL\n"
     ]
    },
    {
     "name": "stdout",
     "output_type": "stream",
     "text": [
      "Found 500000 word vectors.\n"
     ]
    }
   ],
   "source": [
    "tokenized_test = tokenizer.texts_to_sequences(x_test)\n",
    "X_test = pad_sequences(tokenized_test, maxlen=MAX_SEQUENCE_LENGTH)\n",
    "\n",
    "def get_embeddings(path):\n",
    "  # model = gensim.models.KeyedVectors.load_word2vec_format('GoogleNews-vectors-negative300', binary=True, limit=500000)\n",
    "  wv_from_bin = KeyedVectors.load_word2vec_format(path, binary=True, limit=500000) \n",
    "  #extracting word vectors from google news vector\n",
    "  embeddings_index = {}\n",
    "  for word, vector in zip(wv_from_bin.vocab, wv_from_bin.vectors):\n",
    "      coefs = np.asarray(vector, dtype='float32')\n",
    "      embeddings_index[word] = coefs\n",
    "\n",
    "  return embeddings_index\n",
    "\n",
    "embeddings_index = {}\n",
    "embeddings_index = get_embeddings('/root/input/GoogleNews-vectors-negative300.bin.gz')\n",
    "print('Found %s word vectors.' % len(embeddings_index))"
   ]
  },
  {
   "cell_type": "markdown",
   "metadata": {
    "colab_type": "text",
    "id": "VShdUe1m_G56"
   },
   "source": [
    "# Preparing embedding matrix"
   ]
  },
  {
   "cell_type": "code",
   "execution_count": null,
   "metadata": {
    "colab": {},
    "colab_type": "code",
    "id": "E7bcmA6q_G56"
   },
   "outputs": [],
   "source": [
    "vocab_size = len(tokenizer.word_index) + 1\n",
    "\n",
    "embedding_matrix = np.zeros((vocab_size, EMBEDDING_DIM))\n",
    "for word, i in word_index.items():\n",
    "    try:\n",
    "        embedding_vector = embeddings_index[word]\n",
    "        embedding_matrix[i] = embedding_vector\n",
    "    except KeyError:\n",
    "        embedding_matrix[i]=np.random.normal(0,np.sqrt(0.25),EMBEDDING_DIM)"
   ]
  },
  {
   "cell_type": "markdown",
   "metadata": {
    "colab_type": "text",
    "id": "CheemUFh_G5-"
   },
   "source": [
    "# LSTM model"
   ]
  },
  {
   "cell_type": "code",
   "execution_count": null,
   "metadata": {
    "colab": {},
    "colab_type": "code",
    "id": "6Kx7sSQe_G5_"
   },
   "outputs": [],
   "source": [
    "def lstm_net1():\n",
    "    model = Sequential()\n",
    "\n",
    "    #Non-trainable embeddidng layer\n",
    "    model.add(Embedding(vocab_size, output_dim=EMBEDDING_DIM, weights=[embedding_matrix], input_length=MAX_SEQUENCE_LENGTH, trainable=False))\n",
    "    \n",
    "    model.add(LSTM(units=128 , return_sequences = True))\n",
    "    model.add(Dropout(0.2))\n",
    "    model.add(LSTM(units=64))\n",
    "    model.add(Dropout(0.1))\n",
    "    model.add(Dense(units = 32 , activation = 'relu'))\n",
    "    model.add(Dense(1, activation='sigmoid'))\n",
    "    model.compile(optimizer='adam', loss='binary_crossentropy', metrics=['accuracy'])\n",
    "    \n",
    "    return model"
   ]
  },
  {
   "cell_type": "code",
   "execution_count": null,
   "metadata": {
    "colab": {},
    "colab_type": "code",
    "id": "Zj6NdGzk_G6C",
    "outputId": "2ef08e40-fe27-4acd-b955-64928ebeb2ae"
   },
   "outputs": [
    {
     "name": "stdout",
     "output_type": "stream",
     "text": [
      "Model: \"sequential\"\n",
      "_________________________________________________________________\n",
      "Layer (type)                 Output Shape              Param #   \n",
      "=================================================================\n",
      "embedding (Embedding)        (None, 500, 300)          5085600   \n",
      "_________________________________________________________________\n",
      "lstm (LSTM)                  (None, 500, 128)          219648    \n",
      "_________________________________________________________________\n",
      "dropout (Dropout)            (None, 500, 128)          0         \n",
      "_________________________________________________________________\n",
      "lstm_1 (LSTM)                (None, 64)                49408     \n",
      "_________________________________________________________________\n",
      "dropout_1 (Dropout)          (None, 64)                0         \n",
      "_________________________________________________________________\n",
      "dense (Dense)                (None, 32)                2080      \n",
      "_________________________________________________________________\n",
      "dense_1 (Dense)              (None, 1)                 33        \n",
      "=================================================================\n",
      "Total params: 5,356,769\n",
      "Trainable params: 271,169\n",
      "Non-trainable params: 5,085,600\n",
      "_________________________________________________________________\n"
     ]
    }
   ],
   "source": [
    "#training an LSTM network\n",
    "model2 = lstm_net1()\n",
    "\n",
    "batch_size = 256\n",
    "epochs = 8\n",
    "\n",
    "model2.summary()"
   ]
  },
  {
   "cell_type": "code",
   "execution_count": null,
   "metadata": {
    "colab": {},
    "colab_type": "code",
    "id": "zKn9a5Sl_G6F",
    "outputId": "0acee09d-82de-4a8e-868f-7d06ec87a05a"
   },
   "outputs": [
    {
     "name": "stdout",
     "output_type": "stream",
     "text": [
      "Epoch 1/8\n",
      "56/56 [==============================] - 465s 8s/step - loss: 0.4641 - accuracy: 0.7728 - val_loss: 0.3340 - val_accuracy: 0.8668\n",
      "Epoch 2/8\n",
      "56/56 [==============================] - 589s 11s/step - loss: 0.3149 - accuracy: 0.8655 - val_loss: 0.2975 - val_accuracy: 0.8739\n",
      "Epoch 3/8\n",
      "56/56 [==============================] - 660s 12s/step - loss: 0.2769 - accuracy: 0.8856 - val_loss: 0.2793 - val_accuracy: 0.8822\n",
      "Epoch 4/8\n",
      "56/56 [==============================] - 720s 13s/step - loss: 0.2474 - accuracy: 0.9006 - val_loss: 0.3022 - val_accuracy: 0.8705\n",
      "Epoch 5/8\n",
      "56/56 [==============================] - 725s 13s/step - loss: 0.2172 - accuracy: 0.9167 - val_loss: 0.2575 - val_accuracy: 0.8986\n",
      "Epoch 6/8\n",
      "56/56 [==============================] - 745s 13s/step - loss: 0.1911 - accuracy: 0.9274 - val_loss: 0.2849 - val_accuracy: 0.8807\n",
      "Epoch 7/8\n",
      "56/56 [==============================] - 758s 14s/step - loss: 0.1902 - accuracy: 0.9280 - val_loss: 0.2441 - val_accuracy: 0.9018\n",
      "Epoch 8/8\n",
      "56/56 [==============================] - 758s 14s/step - loss: 0.1508 - accuracy: 0.9437 - val_loss: 0.2720 - val_accuracy: 0.8927\n"
     ]
    }
   ],
   "source": [
    "history = model2.fit(X_train, y_train, batch_size = batch_size , validation_data = (X_test,y_test) , epochs = epochs)"
   ]
  },
  {
   "cell_type": "markdown",
   "metadata": {
    "colab_type": "text",
    "id": "07_mwkKb_G6I"
   },
   "source": [
    "# LSTM Confusion Matrix"
   ]
  },
  {
   "cell_type": "code",
   "execution_count": null,
   "metadata": {
    "colab": {},
    "colab_type": "code",
    "id": "I023VeD7_G6I",
    "outputId": "e863cfa5-9536-444b-bdaa-0a137955ada3"
   },
   "outputs": [
    {
     "name": "stdout",
     "output_type": "stream",
     "text": [
      "WARNING:tensorflow:From <ipython-input-28-710dadce3f55>:1: Sequential.predict_classes (from tensorflow.python.keras.engine.sequential) is deprecated and will be removed after 2021-01-01.\n",
      "Instructions for updating:\n",
      "Please use instead:* `np.argmax(model.predict(x), axis=-1)`,   if your model does multi-class classification   (e.g. if it uses a `softmax` last-layer activation).* `(model.predict(x) > 0.5).astype(\"int32\")`,   if your model does binary classification   (e.g. if it uses a `sigmoid` last-layer activation).\n"
     ]
    },
    {
     "data": {
      "text/plain": [
       "<matplotlib.axes._subplots.AxesSubplot at 0xd05f3c2988>"
      ]
     },
     "execution_count": 28,
     "metadata": {
      "tags": []
     },
     "output_type": "execute_result"
    },
    {
     "data": {
      "image/png": "[encoded data removed]",
      "text/plain": [
       "<Figure size 432x288 with 2 Axes>"
      ]
     },
     "metadata": {
      "needs_background": "light",
      "tags": []
     },
     "output_type": "display_data"
    }
   ],
   "source": [
    "pred = model2.predict_classes(X_test)\n",
    "cf_matrix = confusion_matrix(y_test,pred)\n",
    "sns.heatmap(cf_matrix, annot=True, fmt='g', xticklabels = ['Fake','Real'] , yticklabels = ['Fake','Real'])"
   ]
  },
  {
   "cell_type": "code",
   "execution_count": null,
   "metadata": {
    "colab": {},
    "colab_type": "code",
    "id": "-EvsGeQs_G6M",
    "outputId": "1a590bd0-ed89-4d84-d456-825b9e8d0424"
   },
   "outputs": [
    {
     "name": "stdout",
     "output_type": "stream",
     "text": [
      "AUC score is  0.8921136521583494\n"
     ]
    }
   ],
   "source": [
    "from sklearn.metrics import roc_auc_score\n",
    "\n",
    "auc_score = roc_auc_score(y_test, pred)\n",
    "print(\"AUC score is \", auc_score)"
   ]
  },
  {
   "cell_type": "code",
   "execution_count": null,
   "metadata": {
    "colab": {},
    "colab_type": "code",
    "id": "dfh8ImM8_G6P",
    "outputId": "933cfdde-a3f0-4465-8f48-7fcb20b7f6f1"
   },
   "outputs": [
    {
     "name": "stdout",
     "output_type": "stream",
     "text": [
      "F1 score is 0.8921484566389025\n"
     ]
    }
   ],
   "source": [
    "from sklearn.metrics import f1_score\n",
    "\n",
    "F1_score = f1_score(y_test, pred, average='macro')\n",
    "print(\"F1 score is\", F1_score)"
   ]
  },
  {
   "cell_type": "code",
   "execution_count": null,
   "metadata": {
    "colab": {},
    "colab_type": "code",
    "id": "vaWQBKZz_G6S",
    "outputId": "ab370cd1-415e-4540-9ab4-74e677141062"
   },
   "outputs": [
    {
     "name": "stdout",
     "output_type": "stream",
     "text": [
      "Acuracy is  0.8926746166950597\n"
     ]
    }
   ],
   "source": [
    "from sklearn.metrics import accuracy_score\n",
    "\n",
    "accuracy_score = accuracy_score(y_test, pred)\n",
    "print(\"Acuracy is \", accuracy_score)"
   ]
  },
  {
   "cell_type": "markdown",
   "metadata": {
    "colab_type": "text",
    "id": "RugzW2es_G6V"
   },
   "source": [
    "# Use 8800 data as training set"
   ]
  },
  {
   "cell_type": "code",
   "execution_count": null,
   "metadata": {
    "colab": {},
    "colab_type": "code",
    "id": "BHbwQQEB_G6W",
    "outputId": "37b4fe64-a1fa-4ce0-8431-8c6e4d7f4c68"
   },
   "outputs": [
    {
     "name": "stdout",
     "output_type": "stream",
     "text": [
      "<class 'pandas.core.series.Series'>\n"
     ]
    }
   ],
   "source": [
    "print(type(y_train))"
   ]
  },
  {
   "cell_type": "code",
   "execution_count": null,
   "metadata": {
    "colab": {},
    "colab_type": "code",
    "id": "FYJagpQt_G6Z"
   },
   "outputs": [],
   "source": [
    "whole_train = news_data_df['Article']\n",
    "whole_train_label = news_data_df['real_fact']"
   ]
  },
  {
   "cell_type": "code",
   "execution_count": null,
   "metadata": {
    "colab": {},
    "colab_type": "code",
    "id": "k48PkZcp_G6c",
    "outputId": "12a335c8-071a-4fe8-cb67-22fc805c6480"
   },
   "outputs": [
    {
     "name": "stdout",
     "output_type": "stream",
     "text": [
      "Found 18830 unique tokens. and 17609 lines \n"
     ]
    }
   ],
   "source": [
    "tokenizer = Tokenizer(num_words=MAX_NUM_WORDS)\n",
    "\n",
    "tokenizer.fit_on_texts(whole_train)\n",
    "\n",
    "# Transforms each text in texts to a sequence of integers. \n",
    "# So it basically takes each word in the text and replaces it with its corresponding integer value from the word_index dictionary.\n",
    "# sequences = tokenizer.texts_to_sequences(news_data_df.text)\n",
    "tokenized_train = tokenizer.texts_to_sequences(whole_train)\n",
    "Whole_train = pad_sequences(tokenized_train, maxlen=MAX_SEQUENCE_LENGTH)\n",
    "\n",
    "word_index = tokenizer.word_index\n",
    "print('Found {} unique tokens. and {} lines '.format(len(word_index), len(Whole_train)))"
   ]
  },
  {
   "cell_type": "code",
   "execution_count": null,
   "metadata": {
    "colab": {},
    "colab_type": "code",
    "id": "UFn_Wyy-_G6f",
    "outputId": "83906e2e-65cb-4cf1-e3b9-0f5a30098d68"
   },
   "outputs": [
    {
     "name": "stdout",
     "output_type": "stream",
     "text": [
      "Epoch 1/8\n",
      "69/69 [==============================] - 792s 11s/step - loss: 0.6196 - accuracy: 0.6888 - val_loss: 0.4311 - val_accuracy: 0.8055\n",
      "Epoch 2/8\n",
      "69/69 [==============================] - 795s 12s/step - loss: 0.4690 - accuracy: 0.7760 - val_loss: 0.5089 - val_accuracy: 0.7516\n",
      "Epoch 3/8\n",
      "69/69 [==============================] - 896s 13s/step - loss: 0.4044 - accuracy: 0.8156 - val_loss: 0.5386 - val_accuracy: 0.7425\n",
      "Epoch 4/8\n",
      "69/69 [==============================] - 1083s 16s/step - loss: 0.3549 - accuracy: 0.8444 - val_loss: 0.5772 - val_accuracy: 0.7323\n",
      "Epoch 5/8\n",
      "69/69 [==============================] - 1290s 19s/step - loss: 0.3018 - accuracy: 0.8709 - val_loss: 0.6659 - val_accuracy: 0.7104\n",
      "Epoch 6/8\n",
      "69/69 [==============================] - 1689s 24s/step - loss: 0.2643 - accuracy: 0.8881 - val_loss: 0.6911 - val_accuracy: 0.7195\n",
      "Epoch 7/8\n",
      "69/69 [==============================] - 905s 13s/step - loss: 0.2299 - accuracy: 0.9060 - val_loss: 0.7589 - val_accuracy: 0.7022\n",
      "Epoch 8/8\n",
      "69/69 [==============================] - 835s 12s/step - loss: 0.1899 - accuracy: 0.9227 - val_loss: 0.8814 - val_accuracy: 0.6817\n"
     ]
    }
   ],
   "source": [
    "history = model2.fit(Whole_train, whole_train_label, batch_size = batch_size , validation_data = (X_test,y_test) , epochs = epochs)"
   ]
  },
  {
   "cell_type": "code",
   "execution_count": null,
   "metadata": {
    "colab": {},
    "colab_type": "code",
    "id": "W1yd6QU7_G6i",
    "outputId": "2c1402da-6e42-4436-bd82-a66123c1ac2c"
   },
   "outputs": [
    {
     "data": {
      "text/plain": [
       "<matplotlib.axes._subplots.AxesSubplot at 0xd059736388>"
      ]
     },
     "execution_count": 39,
     "metadata": {
      "tags": []
     },
     "output_type": "execute_result"
    },
    {
     "data": {
      "image/png": "[encoded data removed]",
      "text/plain": [
       "<Figure size 432x288 with 2 Axes>"
      ]
     },
     "metadata": {
      "needs_background": "light",
      "tags": []
     },
     "output_type": "display_data"
    }
   ],
   "source": [
    "pred = model2.predict_classes(X_test)\n",
    "cf_matrix = confusion_matrix(y_test,pred)\n",
    "sns.heatmap(cf_matrix, annot=True, fmt='g', xticklabels = ['Fake','Real'] , yticklabels = ['Fake','Real'])"
   ]
  },
  {
   "cell_type": "code",
   "execution_count": null,
   "metadata": {
    "colab": {},
    "colab_type": "code",
    "id": "79qwn2OC_G6l",
    "outputId": "4d0389fd-c2f5-45f6-d8e0-552f29f5bbcb"
   },
   "outputs": [
    {
     "name": "stdout",
     "output_type": "stream",
     "text": [
      "(17609,)\n"
     ]
    }
   ],
   "source": [
    "print(whole_train.shape)"
   ]
  },
  {
   "cell_type": "code",
   "execution_count": null,
   "metadata": {
    "colab": {},
    "colab_type": "code",
    "id": "96-eBGkv_G6p",
    "outputId": "309631c4-5212-4779-eb03-158c6bc59bb5"
   },
   "outputs": [
    {
     "name": "stdout",
     "output_type": "stream",
     "text": [
      "AUC score is  0.6819853492493224\n"
     ]
    }
   ],
   "source": [
    "from sklearn.metrics import roc_auc_score\n",
    "\n",
    "auc_score = roc_auc_score(y_test, pred)\n",
    "print(\"AUC score is \", auc_score)"
   ]
  },
  {
   "cell_type": "code",
   "execution_count": null,
   "metadata": {
    "colab": {},
    "colab_type": "code",
    "id": "bhJxHb99_G6s",
    "outputId": "21cf36df-8b90-4f1d-c8c3-a47de75c98a5"
   },
   "outputs": [
    {
     "name": "stdout",
     "output_type": "stream",
     "text": [
      "F1 score is 0.6815380725051916\n"
     ]
    }
   ],
   "source": [
    "from sklearn.metrics import f1_score\n",
    "\n",
    "F1_score = f1_score(y_test, pred, average='macro')\n",
    "print(\"F1 score is\", F1_score)"
   ]
  },
  {
   "cell_type": "code",
   "execution_count": null,
   "metadata": {
    "colab": {},
    "colab_type": "code",
    "id": "_hJSwpFQ_G6v",
    "outputId": "95a315a5-8dbc-4107-b0b8-1a7484069e3a"
   },
   "outputs": [
    {
     "name": "stdout",
     "output_type": "stream",
     "text": [
      "Acuracy is  0.6817149346961954\n"
     ]
    }
   ],
   "source": [
    "from sklearn.metrics import accuracy_score\n",
    "\n",
    "accuracy_score = accuracy_score(y_test, pred)\n",
    "print(\"Acuracy is \", accuracy_score)"
   ]
  },
  {
   "cell_type": "markdown",
   "metadata": {
    "colab_type": "text",
    "id": "8qThWT9NBaeP"
   },
   "source": [
    "# **CNN**"
   ]
  },
  {
   "cell_type": "code",
   "execution_count": null,
   "metadata": {
    "colab": {},
    "colab_type": "code",
    "id": "domvzc8RBxqK"
   },
   "outputs": [],
   "source": [
    "def cnn_net1():\n",
    "  model = Sequential()\n",
    "\n",
    "  #Non-trainable embeddidng layer\n",
    "  model.add(Embedding(vocab_size, output_dim=EMBEDDING_DIM, weights=[embedding_matrix], input_length=MAX_SEQUENCE_LENGTH, trainable=False))\n",
    "  \n",
    "  model.add(Dropout(0.2))\n",
    "  model.add(Conv1D(filters=128, kernel_size=4, activation='relu'))\n",
    "  model.add(GlobalMaxPooling1D())\n",
    "  model.add(Dropout(0.2))\n",
    "  model.add(Dense(units = 250 , activation = 'relu'))\n",
    "  model.add(Dense(1, activation='sigmoid'))\n",
    "  model.compile(optimizer='adam', loss='binary_crossentropy', metrics=['accuracy'])\n",
    "  \n",
    "  return model\n",
    "\n",
    "\n",
    "def get_pred_output(text_to_check):\n",
    "  sequences = tokenizer.texts_to_sequences([text_to_check])\n",
    "  data = pad_sequences(sequences, maxlen=MAX_SEQUENCE_LENGTH)\n",
    "  predicted_val = model.predict_classes(data)\n",
    "#     predicted_val = model.predict(data)    \n",
    "#     if predicted_val.max() > 0.7:\n",
    "#         output = 1\n",
    "#     else:\n",
    "#         output = 0\n",
    "  return predicted_val"
   ]
  },
  {
   "cell_type": "code",
   "execution_count": null,
   "metadata": {
    "colab": {
     "base_uri": "https://localhost:8080/",
     "height": 391
    },
    "colab_type": "code",
    "id": "NkZC1MHJB_sH",
    "outputId": "ea7d4980-30a1-4d8d-d31a-1fb7486a03c2"
   },
   "outputs": [
    {
     "name": "stdout",
     "output_type": "stream",
     "text": [
      "Model: \"sequential\"\n",
      "_________________________________________________________________\n",
      "Layer (type)                 Output Shape              Param #   \n",
      "=================================================================\n",
      "embedding (Embedding)        (None, 500, 300)          5085600   \n",
      "_________________________________________________________________\n",
      "dropout (Dropout)            (None, 500, 300)          0         \n",
      "_________________________________________________________________\n",
      "conv1d (Conv1D)              (None, 497, 128)          153728    \n",
      "_________________________________________________________________\n",
      "global_max_pooling1d (Global (None, 128)               0         \n",
      "_________________________________________________________________\n",
      "dropout_1 (Dropout)          (None, 128)               0         \n",
      "_________________________________________________________________\n",
      "dense (Dense)                (None, 250)               32250     \n",
      "_________________________________________________________________\n",
      "dense_1 (Dense)              (None, 1)                 251       \n",
      "=================================================================\n",
      "Total params: 5,271,829\n",
      "Trainable params: 186,229\n",
      "Non-trainable params: 5,085,600\n",
      "_________________________________________________________________\n"
     ]
    }
   ],
   "source": [
    "# train a 1D convnet with global maxpooling\n",
    "model_1 = cnn_net1()\n",
    "\n",
    "batch_size = 256\n",
    "epochs = 8\n",
    "\n",
    "model_1.summary()"
   ]
  },
  {
   "cell_type": "code",
   "execution_count": null,
   "metadata": {
    "colab": {
     "base_uri": "https://localhost:8080/",
     "height": 289
    },
    "colab_type": "code",
    "id": "Bq5-oS5f_G6y",
    "outputId": "ff376804-7ca2-4ef9-d5e3-acd0d58dfa28"
   },
   "outputs": [
    {
     "name": "stdout",
     "output_type": "stream",
     "text": [
      "Epoch 1/8\n",
      "56/56 [==============================] - 105s 2s/step - loss: 0.5246 - accuracy: 0.7420 - val_loss: 0.3759 - val_accuracy: 0.8277\n",
      "Epoch 2/8\n",
      "56/56 [==============================] - 105s 2s/step - loss: 0.3483 - accuracy: 0.8477 - val_loss: 0.3336 - val_accuracy: 0.8569\n",
      "Epoch 3/8\n",
      "56/56 [==============================] - 105s 2s/step - loss: 0.2965 - accuracy: 0.8752 - val_loss: 0.2814 - val_accuracy: 0.8805\n",
      "Epoch 4/8\n",
      "56/56 [==============================] - 105s 2s/step - loss: 0.2374 - accuracy: 0.9010 - val_loss: 0.2842 - val_accuracy: 0.8816\n",
      "Epoch 5/8\n",
      "56/56 [==============================] - 108s 2s/step - loss: 0.2173 - accuracy: 0.9129 - val_loss: 0.2471 - val_accuracy: 0.9020\n",
      "Epoch 6/8\n",
      "56/56 [==============================] - 105s 2s/step - loss: 0.1841 - accuracy: 0.9262 - val_loss: 0.2479 - val_accuracy: 0.8986\n",
      "Epoch 7/8\n",
      "56/56 [==============================] - 105s 2s/step - loss: 0.1645 - accuracy: 0.9357 - val_loss: 0.2355 - val_accuracy: 0.9043\n",
      "Epoch 8/8\n",
      "56/56 [==============================] - 105s 2s/step - loss: 0.1418 - accuracy: 0.9455 - val_loss: 0.2402 - val_accuracy: 0.9072\n"
     ]
    }
   ],
   "source": [
    "history = model_1.fit(X_train, y_train, batch_size = batch_size , validation_data = (X_test,y_test) , epochs = epochs)"
   ]
  },
  {
   "cell_type": "code",
   "execution_count": null,
   "metadata": {
    "colab": {
     "base_uri": "https://localhost:8080/",
     "height": 353
    },
    "colab_type": "code",
    "id": "LpBtr8mDHSyc",
    "outputId": "0a98558a-4c66-4433-f384-fe86569c455b"
   },
   "outputs": [
    {
     "name": "stdout",
     "output_type": "stream",
     "text": [
      "WARNING:tensorflow:From <ipython-input-24-ddb552dc6421>:1: Sequential.predict_classes (from tensorflow.python.keras.engine.sequential) is deprecated and will be removed after 2021-01-01.\n",
      "Instructions for updating:\n",
      "Please use instead:* `np.argmax(model.predict(x), axis=-1)`,   if your model does multi-class classification   (e.g. if it uses a `softmax` last-layer activation).* `(model.predict(x) > 0.5).astype(\"int32\")`,   if your model does binary classification   (e.g. if it uses a `sigmoid` last-layer activation).\n"
     ]
    },
    {
     "data": {
      "text/plain": [
       "<matplotlib.axes._subplots.AxesSubplot at 0x7f854a4d8860>"
      ]
     },
     "execution_count": 24,
     "metadata": {
      "tags": []
     },
     "output_type": "execute_result"
    },
    {
     "data": {
      "image/png": "[encoded data removed]",
      "text/plain": [
       "<Figure size 432x288 with 2 Axes>"
      ]
     },
     "metadata": {
      "needs_background": "light",
      "tags": []
     },
     "output_type": "display_data"
    }
   ],
   "source": [
    "pred = model_1.predict_classes(X_test)\n",
    "cf_matrix = confusion_matrix(y_test,pred)\n",
    "sns.heatmap(cf_matrix, annot=True, fmt='g', xticklabels = ['Fake','Real'] , yticklabels = ['Fake','Real'])"
   ]
  },
  {
   "cell_type": "code",
   "execution_count": null,
   "metadata": {
    "colab": {
     "base_uri": "https://localhost:8080/",
     "height": 68
    },
    "colab_type": "code",
    "id": "2RsLDXcsG6ZR",
    "outputId": "84e9e5df-b190-48df-9c8e-9d06b6a33d5c"
   },
   "outputs": [
    {
     "name": "stdout",
     "output_type": "stream",
     "text": [
      "AUC score is  0.906928066845864\n",
      "F1 score is 0.9070524530508333\n",
      "Acuracy is  0.9071550255536627\n"
     ]
    }
   ],
   "source": [
    "from sklearn.metrics import roc_auc_score\n",
    "from sklearn.metrics import f1_score\n",
    "from sklearn.metrics import accuracy_score\n",
    "\n",
    "auc_score = roc_auc_score(y_test, pred)\n",
    "print(\"AUC score is \", auc_score)\n",
    "\n",
    "F1_score = f1_score(y_test, pred, average='macro')\n",
    "print(\"F1 score is\", F1_score)\n",
    "\n",
    "accuracy_score = accuracy_score(y_test, pred)\n",
    "print(\"Acuracy is \", accuracy_score)"
   ]
  },
  {
   "cell_type": "markdown",
   "metadata": {
    "colab_type": "text",
    "id": "juxHt9EBHtME"
   },
   "source": [
    "# **SVM**"
   ]
  },
  {
   "cell_type": "code",
   "execution_count": null,
   "metadata": {
    "colab": {},
    "colab_type": "code",
    "id": "kCiizJA0Vs2D"
   },
   "outputs": [],
   "source": [
    "cf_matrix = confusion_matrix(y_test,svm_pred)\n",
    "sns.heatmap(cf_matrix, annot=True, fmt='g', xticklabels = ['Fake','Real'] , yticklabels = ['Fake','Real'])"
   ]
  },
  {
   "cell_type": "code",
   "execution_count": null,
   "metadata": {
    "colab": {
     "base_uri": "https://localhost:8080/",
     "height": 68
    },
    "colab_type": "code",
    "id": "MvmTsxx0kBhj",
    "outputId": "b6014888-dd9f-4611-80d2-c3544dcc603a"
   },
   "outputs": [
    {
     "name": "stdout",
     "output_type": "stream",
     "text": [
      "AUC score is  0.615212851897777\n",
      "F1 score is 0.61482292536295\n",
      "Acuracy is  0.6155593412833618\n"
     ]
    }
   ],
   "source": [
    "from sklearn import model_selection, naive_bayes, svm\n",
    "from sklearn.metrics import roc_auc_score, f1_score, accuracy_score\n",
    "\n",
    "# Classifier - Algorithm - SVM\n",
    "# fit the training dataset on the classifier\n",
    "SVM = svm.SVC(C=1.0, kernel='linear', degree=3, gamma='auto')\n",
    "SVM.fit(X_train,y_train)\n",
    "# predict the labels on validation dataset\n",
    "predictions_SVM = SVM.predict(X_test)\n",
    "\n",
    "\n",
    "auc_score = roc_auc_score(y_test, predictions_SVM)\n",
    "print(\"AUC score is \", auc_score)\n",
    "\n",
    "F1_score = f1_score(y_test, predictions_SVM, average='macro')\n",
    "print(\"F1 score is\", F1_score)\n",
    "\n",
    "accuracy_score = accuracy_score(y_test, predictions_SVM)\n",
    "print(\"Acuracy is \", accuracy_score)"
   ]
  },
  {
   "cell_type": "markdown",
   "metadata": {
    "colab_type": "text",
    "id": "faFvh1DVf-xi"
   },
   "source": [
    "# **Naive Bayes**"
   ]
  },
  {
   "cell_type": "code",
   "execution_count": null,
   "metadata": {
    "colab": {
     "base_uri": "https://localhost:8080/",
     "height": 68
    },
    "colab_type": "code",
    "id": "mLyP6SRggIE6",
    "outputId": "d505298a-0365-4cc6-ccc4-a497793cd602"
   },
   "outputs": [
    {
     "name": "stdout",
     "output_type": "stream",
     "text": [
      "AUC score is  0.5764770475335108\n",
      "F1 score is 0.5138666355408052\n",
      "Acuracy is  0.5732538330494037\n"
     ]
    }
   ],
   "source": [
    "from sklearn import model_selection, naive_bayes, svm\n",
    "from sklearn.metrics import roc_auc_score, f1_score, accuracy_score\n",
    "\n",
    "# fit the training dataset on the NB classifier\n",
    "Naive = naive_bayes.MultinomialNB()\n",
    "Naive.fit(X_train, y_train)\n",
    "# predict the labels on validation dataset\n",
    "predictions_NB = Naive.predict(X_test)\n",
    "\n",
    "auc_score = roc_auc_score(y_test, predictions_NB)\n",
    "print(\"AUC score is \", auc_score)\n",
    "\n",
    "F1_score = f1_score(y_test, predictions_NB, average='macro')\n",
    "print(\"F1 score is\", F1_score)\n",
    "\n",
    "accuracy_score = accuracy_score(y_test, predictions_NB)\n",
    "print(\"Acuracy is \", accuracy_score)"
   ]
  },
  {
   "cell_type": "markdown",
   "metadata": {
    "colab_type": "text",
    "id": "jpoXvLvlmmw5"
   },
   "source": [
    "# **Logistic Regression**"
   ]
  },
  {
   "cell_type": "code",
   "execution_count": null,
   "metadata": {
    "colab": {
     "base_uri": "https://localhost:8080/",
     "height": 204
    },
    "colab_type": "code",
    "id": "onGCBqCkmrBH",
    "outputId": "4e659821-48c6-4893-eced-15e68686f22c"
   },
   "outputs": [
    {
     "name": "stdout",
     "output_type": "stream",
     "text": [
      "AUC score is  0.5749126453425093\n",
      "F1 score is 0.5057593237547798\n",
      "Acuracy is  0.5715502555366269\n"
     ]
    },
    {
     "name": "stderr",
     "output_type": "stream",
     "text": [
      "/usr/local/lib/python3.6/dist-packages/sklearn/linear_model/_logistic.py:940: ConvergenceWarning: lbfgs failed to converge (status=1):\n",
      "STOP: TOTAL NO. of ITERATIONS REACHED LIMIT.\n",
      "\n",
      "Increase the number of iterations (max_iter) or scale the data as shown in:\n",
      "    https://scikit-learn.org/stable/modules/preprocessing.html\n",
      "Please also refer to the documentation for alternative solver options:\n",
      "    https://scikit-learn.org/stable/modules/linear_model.html#logistic-regression\n",
      "  extra_warning_msg=_LOGISTIC_SOLVER_CONVERGENCE_MSG)\n"
     ]
    }
   ],
   "source": [
    "from sklearn.linear_model import LogisticRegression\n",
    "from sklearn.metrics import roc_auc_score, f1_score, accuracy_score\n",
    "\n",
    "clf = LogisticRegression(random_state=0).fit(X_train, y_train)\n",
    "pred_log =  clf.predict(X_test)\n",
    "\n",
    "auc_score = roc_auc_score(y_test, pred_log)\n",
    "print(\"AUC score is \", auc_score)\n",
    "\n",
    "F1_score = f1_score(y_test, pred_log, average='macro')\n",
    "print(\"F1 score is\", F1_score)\n",
    "\n",
    "accuracy_score = accuracy_score(y_test, pred_log)\n",
    "print(\"Acuracy is \", accuracy_score)"
   ]
  },
  {
   "cell_type": "markdown",
   "metadata": {
    "colab_type": "text",
    "id": "gm8TSiqdn4i6"
   },
   "source": [
    "# **KNN**"
   ]
  },
  {
   "cell_type": "code",
   "execution_count": null,
   "metadata": {
    "colab": {},
    "colab_type": "code",
    "id": "w5YtrsY1n7CM"
   },
   "outputs": [],
   "source": [
    "from sklearn.neighbors import KNeighborsClassifier\n",
    "from sklearn.metrics import roc_auc_score, f1_score, accuracy_score\n",
    "\n",
    "neigh = KNeighborsClassifier(n_neighbors=3)\n",
    "clf = neigh.fit(X_train, y_train)\n",
    "pred_knn =  clf.predict(X_test)\n"
   ]
  },
  {
   "cell_type": "code",
   "execution_count": null,
   "metadata": {
    "colab": {
     "base_uri": "https://localhost:8080/",
     "height": 68
    },
    "colab_type": "code",
    "id": "FtXTNCnko_-e",
    "outputId": "125efb1c-5f12-4764-a5a6-2d971602b584"
   },
   "outputs": [
    {
     "name": "stdout",
     "output_type": "stream",
     "text": [
      "AUC score is  0.5937019186581809\n",
      "F1 score is 0.5936872969185022\n",
      "Acuracy is  0.5936967632027257\n"
     ]
    }
   ],
   "source": [
    "auc_score = roc_auc_score(y_test, pred_knn)\n",
    "print(\"AUC score is \", auc_score)\n",
    "\n",
    "F1_score = f1_score(y_test, pred_knn, average='macro')\n",
    "print(\"F1 score is\", F1_score)\n",
    "\n",
    "accuracy_score = accuracy_score(y_test, pred_knn)\n",
    "print(\"Acuracy is \", accuracy_score)"
   ]
  },
  {
   "cell_type": "markdown",
   "metadata": {
    "colab_type": "text",
    "id": "XbQbm3CmWJ-G"
   },
   "source": [
    "## **DBN**"
   ]
  },
  {
   "cell_type": "code",
   "execution_count": null,
   "metadata": {
    "colab": {
     "base_uri": "https://localhost:8080/",
     "height": 870
    },
    "colab_type": "code",
    "id": "ekM1nMBfaIFp",
    "outputId": "243d1536-d2ab-477c-b017-aac4d223a623"
   },
   "outputs": [
    {
     "name": "stdout",
     "output_type": "stream",
     "text": [
      "Collecting git+git://github.com/albertbup/deep-belief-network.git\n",
      "  Cloning git://github.com/albertbup/deep-belief-network.git to /tmp/pip-req-build-38i9x6be\n",
      "  Running command git clone -q git://github.com/albertbup/deep-belief-network.git /tmp/pip-req-build-38i9x6be\n",
      "Requirement already satisfied: numpy>=1.12.0 in /usr/local/lib/python3.6/dist-packages (from deep-belief-network==1.0.3) (1.18.5)\n",
      "Requirement already satisfied: scipy>=0.18.1 in /usr/local/lib/python3.6/dist-packages (from deep-belief-network==1.0.3) (1.4.1)\n",
      "Requirement already satisfied: scikit-learn>=0.18.1 in /usr/local/lib/python3.6/dist-packages (from deep-belief-network==1.0.3) (0.22.2.post1)\n",
      "Requirement already satisfied: tensorflow>=1.5.0 in /usr/local/lib/python3.6/dist-packages (from deep-belief-network==1.0.3) (2.3.0)\n",
      "Requirement already satisfied: joblib>=0.11 in /usr/local/lib/python3.6/dist-packages (from scikit-learn>=0.18.1->deep-belief-network==1.0.3) (0.16.0)\n",
      "Requirement already satisfied: termcolor>=1.1.0 in /usr/local/lib/python3.6/dist-packages (from tensorflow>=1.5.0->deep-belief-network==1.0.3) (1.1.0)\n",
      "Requirement already satisfied: h5py<2.11.0,>=2.10.0 in /usr/local/lib/python3.6/dist-packages (from tensorflow>=1.5.0->deep-belief-network==1.0.3) (2.10.0)\n",
      "Requirement already satisfied: wrapt>=1.11.1 in /usr/local/lib/python3.6/dist-packages (from tensorflow>=1.5.0->deep-belief-network==1.0.3) (1.12.1)\n",
      "Requirement already satisfied: keras-preprocessing<1.2,>=1.1.1 in /usr/local/lib/python3.6/dist-packages (from tensorflow>=1.5.0->deep-belief-network==1.0.3) (1.1.2)\n",
      "Requirement already satisfied: wheel>=0.26 in /usr/local/lib/python3.6/dist-packages (from tensorflow>=1.5.0->deep-belief-network==1.0.3) (0.35.1)\n",
      "Requirement already satisfied: six>=1.12.0 in /usr/local/lib/python3.6/dist-packages (from tensorflow>=1.5.0->deep-belief-network==1.0.3) (1.15.0)\n",
      "Requirement already satisfied: protobuf>=3.9.2 in /usr/local/lib/python3.6/dist-packages (from tensorflow>=1.5.0->deep-belief-network==1.0.3) (3.12.4)\n",
      "Requirement already satisfied: grpcio>=1.8.6 in /usr/local/lib/python3.6/dist-packages (from tensorflow>=1.5.0->deep-belief-network==1.0.3) (1.32.0)\n",
      "Requirement already satisfied: tensorboard<3,>=2.3.0 in /usr/local/lib/python3.6/dist-packages (from tensorflow>=1.5.0->deep-belief-network==1.0.3) (2.3.0)\n",
      "Requirement already satisfied: absl-py>=0.7.0 in /usr/local/lib/python3.6/dist-packages (from tensorflow>=1.5.0->deep-belief-network==1.0.3) (0.10.0)\n",
      "Requirement already satisfied: opt-einsum>=2.3.2 in /usr/local/lib/python3.6/dist-packages (from tensorflow>=1.5.0->deep-belief-network==1.0.3) (3.3.0)\n",
      "Requirement already satisfied: astunparse==1.6.3 in /usr/local/lib/python3.6/dist-packages (from tensorflow>=1.5.0->deep-belief-network==1.0.3) (1.6.3)\n",
      "Requirement already satisfied: google-pasta>=0.1.8 in /usr/local/lib/python3.6/dist-packages (from tensorflow>=1.5.0->deep-belief-network==1.0.3) (0.2.0)\n",
      "Requirement already satisfied: gast==0.3.3 in /usr/local/lib/python3.6/dist-packages (from tensorflow>=1.5.0->deep-belief-network==1.0.3) (0.3.3)\n",
      "Requirement already satisfied: tensorflow-estimator<2.4.0,>=2.3.0 in /usr/local/lib/python3.6/dist-packages (from tensorflow>=1.5.0->deep-belief-network==1.0.3) (2.3.0)\n",
      "Requirement already satisfied: setuptools in /usr/local/lib/python3.6/dist-packages (from protobuf>=3.9.2->tensorflow>=1.5.0->deep-belief-network==1.0.3) (50.3.0)\n",
      "Requirement already satisfied: google-auth-oauthlib<0.5,>=0.4.1 in /usr/local/lib/python3.6/dist-packages (from tensorboard<3,>=2.3.0->tensorflow>=1.5.0->deep-belief-network==1.0.3) (0.4.1)\n",
      "Requirement already satisfied: werkzeug>=0.11.15 in /usr/local/lib/python3.6/dist-packages (from tensorboard<3,>=2.3.0->tensorflow>=1.5.0->deep-belief-network==1.0.3) (1.0.1)\n",
      "Requirement already satisfied: tensorboard-plugin-wit>=1.6.0 in /usr/local/lib/python3.6/dist-packages (from tensorboard<3,>=2.3.0->tensorflow>=1.5.0->deep-belief-network==1.0.3) (1.7.0)\n",
      "Requirement already satisfied: requests<3,>=2.21.0 in /usr/local/lib/python3.6/dist-packages (from tensorboard<3,>=2.3.0->tensorflow>=1.5.0->deep-belief-network==1.0.3) (2.23.0)\n",
      "Requirement already satisfied: markdown>=2.6.8 in /usr/local/lib/python3.6/dist-packages (from tensorboard<3,>=2.3.0->tensorflow>=1.5.0->deep-belief-network==1.0.3) (3.2.2)\n",
      "Requirement already satisfied: google-auth<2,>=1.6.3 in /usr/local/lib/python3.6/dist-packages (from tensorboard<3,>=2.3.0->tensorflow>=1.5.0->deep-belief-network==1.0.3) (1.17.2)\n",
      "Requirement already satisfied: requests-oauthlib>=0.7.0 in /usr/local/lib/python3.6/dist-packages (from google-auth-oauthlib<0.5,>=0.4.1->tensorboard<3,>=2.3.0->tensorflow>=1.5.0->deep-belief-network==1.0.3) (1.3.0)\n",
      "Requirement already satisfied: idna<3,>=2.5 in /usr/local/lib/python3.6/dist-packages (from requests<3,>=2.21.0->tensorboard<3,>=2.3.0->tensorflow>=1.5.0->deep-belief-network==1.0.3) (2.10)\n",
      "Requirement already satisfied: urllib3!=1.25.0,!=1.25.1,<1.26,>=1.21.1 in /usr/local/lib/python3.6/dist-packages (from requests<3,>=2.21.0->tensorboard<3,>=2.3.0->tensorflow>=1.5.0->deep-belief-network==1.0.3) (1.24.3)\n",
      "Requirement already satisfied: certifi>=2017.4.17 in /usr/local/lib/python3.6/dist-packages (from requests<3,>=2.21.0->tensorboard<3,>=2.3.0->tensorflow>=1.5.0->deep-belief-network==1.0.3) (2020.6.20)\n",
      "Requirement already satisfied: chardet<4,>=3.0.2 in /usr/local/lib/python3.6/dist-packages (from requests<3,>=2.21.0->tensorboard<3,>=2.3.0->tensorflow>=1.5.0->deep-belief-network==1.0.3) (3.0.4)\n",
      "Requirement already satisfied: importlib-metadata; python_version < \"3.8\" in /usr/local/lib/python3.6/dist-packages (from markdown>=2.6.8->tensorboard<3,>=2.3.0->tensorflow>=1.5.0->deep-belief-network==1.0.3) (1.7.0)\n",
      "Requirement already satisfied: pyasn1-modules>=0.2.1 in /usr/local/lib/python3.6/dist-packages (from google-auth<2,>=1.6.3->tensorboard<3,>=2.3.0->tensorflow>=1.5.0->deep-belief-network==1.0.3) (0.2.8)\n",
      "Requirement already satisfied: cachetools<5.0,>=2.0.0 in /usr/local/lib/python3.6/dist-packages (from google-auth<2,>=1.6.3->tensorboard<3,>=2.3.0->tensorflow>=1.5.0->deep-belief-network==1.0.3) (4.1.1)\n",
      "Requirement already satisfied: rsa<5,>=3.1.4; python_version >= \"3\" in /usr/local/lib/python3.6/dist-packages (from google-auth<2,>=1.6.3->tensorboard<3,>=2.3.0->tensorflow>=1.5.0->deep-belief-network==1.0.3) (4.6)\n",
      "Requirement already satisfied: oauthlib>=3.0.0 in /usr/local/lib/python3.6/dist-packages (from requests-oauthlib>=0.7.0->google-auth-oauthlib<0.5,>=0.4.1->tensorboard<3,>=2.3.0->tensorflow>=1.5.0->deep-belief-network==1.0.3) (3.1.0)\n",
      "Requirement already satisfied: zipp>=0.5 in /usr/local/lib/python3.6/dist-packages (from importlib-metadata; python_version < \"3.8\"->markdown>=2.6.8->tensorboard<3,>=2.3.0->tensorflow>=1.5.0->deep-belief-network==1.0.3) (3.1.0)\n",
      "Requirement already satisfied: pyasn1<0.5.0,>=0.4.6 in /usr/local/lib/python3.6/dist-packages (from pyasn1-modules>=0.2.1->google-auth<2,>=1.6.3->tensorboard<3,>=2.3.0->tensorflow>=1.5.0->deep-belief-network==1.0.3) (0.4.8)\n",
      "Building wheels for collected packages: deep-belief-network\n",
      "  Building wheel for deep-belief-network (setup.py) ... \u001b[?25l\u001b[?25hdone\n",
      "  Created wheel for deep-belief-network: filename=deep_belief_network-1.0.3-cp36-none-any.whl size=13464 sha256=f3d785ae31a65305fdf4bb28fbd33934403b23c4c7671e922a37c12e92eaa453\n",
      "  Stored in directory: /tmp/pip-ephem-wheel-cache-5rqisz0h/wheels/29/6d/3b/6a50cf42a32bdfaa903b17832d60d8d3e5dc4b0fd02ae8acaf\n",
      "Successfully built deep-belief-network\n",
      "Installing collected packages: deep-belief-network\n",
      "Successfully installed deep-belief-network-1.0.3\n"
     ]
    }
   ],
   "source": [
    "% pip install git+git://github.com/albertbup/deep-belief-network.git"
   ]
  },
  {
   "cell_type": "code",
   "execution_count": null,
   "metadata": {
    "colab": {
     "base_uri": "https://localhost:8080/",
     "height": 1000
    },
    "colab_type": "code",
    "id": "WVbi8HzyWPvQ",
    "outputId": "8a030862-6909-4e86-bc7c-31aed0e87c01"
   },
   "outputs": [
    {
     "name": "stdout",
     "output_type": "stream",
     "text": [
      "[START] Pre-training step:\n",
      ">> Epoch 1 finished \tRBM Reconstruction error 56254806.383125\n",
      ">> Epoch 2 finished \tRBM Reconstruction error 56254820.657007\n",
      ">> Epoch 3 finished \tRBM Reconstruction error 56254443.958099\n",
      ">> Epoch 4 finished \tRBM Reconstruction error 56254085.293391\n",
      ">> Epoch 5 finished \tRBM Reconstruction error 56235574.841113\n",
      ">> Epoch 6 finished \tRBM Reconstruction error 56236024.392956\n",
      ">> Epoch 7 finished \tRBM Reconstruction error 56234460.174612\n",
      ">> Epoch 8 finished \tRBM Reconstruction error 56235458.919449\n",
      ">> Epoch 9 finished \tRBM Reconstruction error 56234296.436590\n",
      ">> Epoch 10 finished \tRBM Reconstruction error 56232033.393680\n",
      ">> Epoch 1 finished \tRBM Reconstruction error 0.000000\n",
      ">> Epoch 2 finished \tRBM Reconstruction error 0.000000\n",
      ">> Epoch 3 finished \tRBM Reconstruction error 0.000000\n",
      ">> Epoch 4 finished \tRBM Reconstruction error 0.000000\n",
      ">> Epoch 5 finished \tRBM Reconstruction error 0.000000\n",
      ">> Epoch 6 finished \tRBM Reconstruction error 0.000000\n",
      ">> Epoch 7 finished \tRBM Reconstruction error 0.000000\n",
      ">> Epoch 8 finished \tRBM Reconstruction error 0.000000\n",
      ">> Epoch 9 finished \tRBM Reconstruction error 0.000000\n",
      ">> Epoch 10 finished \tRBM Reconstruction error 0.000000\n",
      "[END] Pre-training step\n",
      "[START] Fine tuning step:\n",
      ">> Epoch 1 finished \tANN training loss 1.387322\n",
      ">> Epoch 2 finished \tANN training loss 1.387888\n",
      ">> Epoch 3 finished \tANN training loss 1.387748\n",
      ">> Epoch 4 finished \tANN training loss 1.387470\n",
      ">> Epoch 5 finished \tANN training loss 1.387397\n",
      ">> Epoch 6 finished \tANN training loss 1.387422\n",
      ">> Epoch 7 finished \tANN training loss 1.386799\n",
      ">> Epoch 8 finished \tANN training loss 1.387552\n",
      ">> Epoch 9 finished \tANN training loss 1.387288\n",
      ">> Epoch 10 finished \tANN training loss 1.387281\n",
      ">> Epoch 11 finished \tANN training loss 1.386895\n",
      ">> Epoch 12 finished \tANN training loss 1.387353\n",
      ">> Epoch 13 finished \tANN training loss 1.387040\n",
      ">> Epoch 14 finished \tANN training loss 1.387681\n",
      ">> Epoch 15 finished \tANN training loss 1.386857\n",
      ">> Epoch 16 finished \tANN training loss 1.387308\n",
      ">> Epoch 17 finished \tANN training loss 1.387169\n",
      ">> Epoch 18 finished \tANN training loss 1.387210\n",
      ">> Epoch 19 finished \tANN training loss 1.387043\n",
      ">> Epoch 20 finished \tANN training loss 1.387210\n",
      ">> Epoch 21 finished \tANN training loss 1.386941\n",
      ">> Epoch 22 finished \tANN training loss 1.387301\n",
      ">> Epoch 23 finished \tANN training loss 1.387087\n",
      ">> Epoch 24 finished \tANN training loss 1.387484\n",
      ">> Epoch 25 finished \tANN training loss 1.387311\n",
      ">> Epoch 26 finished \tANN training loss 1.387361\n",
      ">> Epoch 27 finished \tANN training loss 1.387137\n",
      ">> Epoch 28 finished \tANN training loss 1.386991\n",
      ">> Epoch 29 finished \tANN training loss 1.387347\n",
      ">> Epoch 30 finished \tANN training loss 1.387176\n",
      ">> Epoch 31 finished \tANN training loss 1.387316\n",
      ">> Epoch 32 finished \tANN training loss 1.387455\n",
      ">> Epoch 33 finished \tANN training loss 1.387073\n",
      ">> Epoch 34 finished \tANN training loss 1.387397\n",
      ">> Epoch 35 finished \tANN training loss 1.387211\n",
      ">> Epoch 36 finished \tANN training loss 1.387144\n",
      ">> Epoch 37 finished \tANN training loss 1.387204\n",
      ">> Epoch 38 finished \tANN training loss 1.387099\n",
      ">> Epoch 39 finished \tANN training loss 1.387696\n",
      ">> Epoch 40 finished \tANN training loss 1.386895\n",
      ">> Epoch 41 finished \tANN training loss 1.387279\n",
      ">> Epoch 42 finished \tANN training loss 1.386822\n",
      ">> Epoch 43 finished \tANN training loss 1.386961\n",
      ">> Epoch 44 finished \tANN training loss 1.386842\n",
      ">> Epoch 45 finished \tANN training loss 1.387502\n",
      ">> Epoch 46 finished \tANN training loss 1.387150\n",
      ">> Epoch 47 finished \tANN training loss 1.387333\n",
      ">> Epoch 48 finished \tANN training loss 1.387509\n",
      ">> Epoch 49 finished \tANN training loss 1.387272\n",
      ">> Epoch 50 finished \tANN training loss 1.386817\n",
      ">> Epoch 51 finished \tANN training loss 1.387290\n",
      ">> Epoch 52 finished \tANN training loss 1.387265\n",
      ">> Epoch 53 finished \tANN training loss 1.386988\n",
      ">> Epoch 54 finished \tANN training loss 1.387373\n",
      ">> Epoch 55 finished \tANN training loss 1.387106\n",
      ">> Epoch 56 finished \tANN training loss 1.387051\n",
      ">> Epoch 57 finished \tANN training loss 1.387305\n",
      ">> Epoch 58 finished \tANN training loss 1.387100\n",
      ">> Epoch 59 finished \tANN training loss 1.387253\n",
      ">> Epoch 60 finished \tANN training loss 1.387171\n",
      ">> Epoch 61 finished \tANN training loss 1.387362\n",
      ">> Epoch 62 finished \tANN training loss 1.387089\n",
      ">> Epoch 63 finished \tANN training loss 1.387486\n",
      ">> Epoch 64 finished \tANN training loss 1.387306\n",
      ">> Epoch 65 finished \tANN training loss 1.387231\n",
      ">> Epoch 66 finished \tANN training loss 1.387155\n",
      ">> Epoch 67 finished \tANN training loss 1.387348\n",
      ">> Epoch 68 finished \tANN training loss 1.387302\n",
      ">> Epoch 69 finished \tANN training loss 1.387184\n",
      ">> Epoch 70 finished \tANN training loss 1.387064\n",
      ">> Epoch 71 finished \tANN training loss 1.386885\n",
      ">> Epoch 72 finished \tANN training loss 1.387033\n",
      ">> Epoch 73 finished \tANN training loss 1.387527\n",
      ">> Epoch 74 finished \tANN training loss 1.387285\n",
      ">> Epoch 75 finished \tANN training loss 1.387173\n",
      ">> Epoch 76 finished \tANN training loss 1.387426\n",
      ">> Epoch 77 finished \tANN training loss 1.387173\n",
      ">> Epoch 78 finished \tANN training loss 1.387321\n",
      ">> Epoch 79 finished \tANN training loss 1.387322\n",
      ">> Epoch 80 finished \tANN training loss 1.386807\n",
      ">> Epoch 81 finished \tANN training loss 1.387256\n",
      ">> Epoch 82 finished \tANN training loss 1.387384\n",
      ">> Epoch 83 finished \tANN training loss 1.387313\n",
      ">> Epoch 84 finished \tANN training loss 1.387204\n",
      ">> Epoch 85 finished \tANN training loss 1.387180\n",
      ">> Epoch 86 finished \tANN training loss 1.387167\n",
      ">> Epoch 87 finished \tANN training loss 1.387388\n",
      ">> Epoch 88 finished \tANN training loss 1.387217\n",
      ">> Epoch 89 finished \tANN training loss 1.387267\n",
      ">> Epoch 90 finished \tANN training loss 1.387281\n",
      ">> Epoch 91 finished \tANN training loss 1.387074\n",
      ">> Epoch 92 finished \tANN training loss 1.386671\n",
      ">> Epoch 93 finished \tANN training loss 1.387373\n",
      ">> Epoch 94 finished \tANN training loss 1.387249\n",
      ">> Epoch 95 finished \tANN training loss 1.387144\n",
      ">> Epoch 96 finished \tANN training loss 1.387396\n",
      ">> Epoch 97 finished \tANN training loss 1.387312\n",
      ">> Epoch 98 finished \tANN training loss 1.387267\n",
      ">> Epoch 99 finished \tANN training loss 1.386991\n",
      ">> Epoch 100 finished \tANN training loss 1.387244\n",
      "[END] Fine tuning step\n",
      "AUC score is  0.5\n",
      "F1 score is 0.3313081450541105\n",
      "Acuracy is  0.4954571266325951\n"
     ]
    }
   ],
   "source": [
    "from dbn import SupervisedDBNClassification\n",
    "from sklearn.metrics import roc_auc_score, f1_score, accuracy_score\n",
    "\n",
    "# Training\n",
    "classifier = SupervisedDBNClassification(hidden_layers_structure=[256, 256], learning_rate_rbm=0.05, learning_rate=0.1, n_epochs_rbm=10, n_iter_backprop=100, batch_size=32, activation_function='relu', dropout_p=0.2)\n",
    "classifier.fit(X_train, y_train)\n",
    "\n",
    "# Test\n",
    "pred_dbn = classifier.predict(X_test)\n",
    "\n",
    "\n",
    "auc_score = roc_auc_score(y_test, pred_dbn)\n",
    "print(\"AUC score is \", auc_score)\n",
    "\n",
    "F1_score = f1_score(y_test, pred_dbn, average='macro')\n",
    "print(\"F1 score is\", F1_score)\n",
    "\n",
    "accuracy_score = accuracy_score(y_test, pred_dbn)\n",
    "print(\"Acuracy is \", accuracy_score)\n"
   ]
  }
 ],
 "metadata": {
  "accelerator": "GPU",
  "colab": {
   "name": "fake-real-news-training-8800.ipynb",
   "provenance": [],
   "toc_visible": true
  },
  "kernelspec": {
   "display_name": "Python 3",
   "language": "python",
   "name": "python3"
  },
  "language_info": {
   "codemirror_mode": {
    "name": "ipython",
    "version": 3
   },
   "file_extension": ".py",
   "mimetype": "text/x-python",
   "name": "python",
   "nbconvert_exporter": "python",
   "pygments_lexer": "ipython3",
   "version": "3.7.6"
  }
 },
 "nbformat": 4,
 "nbformat_minor": 1
}
